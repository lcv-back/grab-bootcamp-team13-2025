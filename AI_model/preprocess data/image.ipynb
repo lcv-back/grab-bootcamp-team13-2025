{
 "cells": [
  {
   "cell_type": "code",
   "execution_count": null,
   "id": "3697914a",
   "metadata": {},
   "outputs": [],
   "source": [
    "import lancedb\n",
    "import pyarrow as pa\n",
    "import torch\n",
    "from PIL import Image\n",
    "import os\n",
    "import json\n",
    "import numpy as np\n",
    "import pandas as pd\n",
    "from tqdm import tqdm\n",
    "from Model.model import Model\n",
    "from collections import defaultdict"
   ]
  },
  {
   "cell_type": "code",
   "execution_count": null,
   "id": "ac2793e3",
   "metadata": {},
   "outputs": [],
   "source": [
    "my_model = Model(\"lancedb\")"
   ]
  },
  {
   "cell_type": "code",
   "execution_count": null,
   "id": "12b22e4f",
   "metadata": {},
   "outputs": [],
   "source": [
    "data = []\n",
    "\n",
    "src_dir = './data_train_test/train_dir'\n",
    "\n",
    "for dir in os.listdir(src_dir):\n",
    "    sub_dir = os.path.join(src_dir, dir)\n",
    "    for name in os.listdir(sub_dir):\n",
    "        path = os.path.join(sub_dir, name)\n",
    "        data.append([dir, path])\n",
    "\n",
    "print(len(data))"
   ]
  },
  {
   "cell_type": "code",
   "execution_count": 5,
   "id": "77101cf7",
   "metadata": {},
   "outputs": [
    {
     "name": "stderr",
     "output_type": "stream",
     "text": [
      "image process:   6%|▌         | 4000/69421 [04:31<1:37:13, 11.22it/s]"
     ]
    },
    {
     "name": "stdout",
     "output_type": "stream",
     "text": [
      "Flushed batch of 4000 items to database.\n"
     ]
    },
    {
     "name": "stderr",
     "output_type": "stream",
     "text": [
      "image process:  12%|█▏        | 8002/69421 [09:20<1:14:25, 13.75it/s]"
     ]
    },
    {
     "name": "stdout",
     "output_type": "stream",
     "text": [
      "Flushed batch of 4000 items to database.\n"
     ]
    },
    {
     "name": "stderr",
     "output_type": "stream",
     "text": [
      "image process:  17%|█▋        | 12002/69421 [15:06<1:08:08, 14.04it/s]"
     ]
    },
    {
     "name": "stdout",
     "output_type": "stream",
     "text": [
      "Flushed batch of 4000 items to database.\n"
     ]
    },
    {
     "name": "stderr",
     "output_type": "stream",
     "text": [
      "image process:  23%|██▎       | 16002/69421 [20:06<1:08:08, 13.07it/s]"
     ]
    },
    {
     "name": "stdout",
     "output_type": "stream",
     "text": [
      "Flushed batch of 4000 items to database.\n"
     ]
    },
    {
     "name": "stderr",
     "output_type": "stream",
     "text": [
      "image process:  29%|██▉       | 20002/69421 [25:03<1:02:13, 13.24it/s]"
     ]
    },
    {
     "name": "stdout",
     "output_type": "stream",
     "text": [
      "Flushed batch of 4000 items to database.\n"
     ]
    },
    {
     "name": "stderr",
     "output_type": "stream",
     "text": [
      "image process:  35%|███▍      | 24001/69421 [30:28<54:26, 13.91it/s]  "
     ]
    },
    {
     "name": "stdout",
     "output_type": "stream",
     "text": [
      "Flushed batch of 4000 items to database.\n"
     ]
    },
    {
     "name": "stderr",
     "output_type": "stream",
     "text": [
      "image process:  35%|███▍      | 24231/69421 [30:45<57:21, 13.13it/s]  \n"
     ]
    },
    {
     "ename": "KeyboardInterrupt",
     "evalue": "",
     "output_type": "error",
     "traceback": [
      "\u001b[1;31m---------------------------------------------------------------------------\u001b[0m",
      "\u001b[1;31mKeyboardInterrupt\u001b[0m                         Traceback (most recent call last)",
      "Cell \u001b[1;32mIn[5], line 1\u001b[0m\n\u001b[1;32m----> 1\u001b[0m my_model\u001b[38;5;241m.\u001b[39madd_image_to_database(input_data \u001b[38;5;241m=\u001b[39m data, check_existing_path \u001b[38;5;241m=\u001b[39m \u001b[38;5;28;01mFalse\u001b[39;00m, batch_size \u001b[38;5;241m=\u001b[39m \u001b[38;5;241m4000\u001b[39m)\n\u001b[0;32m      2\u001b[0m my_model\u001b[38;5;241m.\u001b[39madd_image_to_database(input_data \u001b[38;5;241m=\u001b[39m data, check_existing_path \u001b[38;5;241m=\u001b[39m \u001b[38;5;28;01mFalse\u001b[39;00m, batch_size \u001b[38;5;241m=\u001b[39m \u001b[38;5;241m4000\u001b[39m)\n",
      "File \u001b[1;32mc:\\Users\\pc\\Desktop\\grab\\model.py:86\u001b[0m, in \u001b[0;36mModel.add_image_to_database\u001b[1;34m(self, input_data, check_existing_path, batch_size, sim_threshold)\u001b[0m\n\u001b[0;32m     82\u001b[0m inputs \u001b[38;5;241m=\u001b[39m \u001b[38;5;28mself\u001b[39m\u001b[38;5;241m.\u001b[39mprocessor(images\u001b[38;5;241m=\u001b[39mimage, return_tensors\u001b[38;5;241m=\u001b[39m\u001b[38;5;124m\"\u001b[39m\u001b[38;5;124mpt\u001b[39m\u001b[38;5;124m\"\u001b[39m)\u001b[38;5;241m.\u001b[39mto(\u001b[38;5;28mself\u001b[39m\u001b[38;5;241m.\u001b[39mdevice)\n\u001b[0;32m     83\u001b[0m \u001b[38;5;28;01mwith\u001b[39;00m torch\u001b[38;5;241m.\u001b[39mno_grad():\n\u001b[0;32m     84\u001b[0m     emb \u001b[38;5;241m=\u001b[39m (\u001b[38;5;28mself\u001b[39m\u001b[38;5;241m.\u001b[39mmodel\n\u001b[0;32m     85\u001b[0m         \u001b[38;5;241m.\u001b[39mget_image_features(\u001b[38;5;241m*\u001b[39m\u001b[38;5;241m*\u001b[39minputs)\n\u001b[1;32m---> 86\u001b[0m         \u001b[38;5;241m.\u001b[39mcpu()\n\u001b[0;32m     87\u001b[0m         \u001b[38;5;241m.\u001b[39msqueeze()\n\u001b[0;32m     88\u001b[0m         \u001b[38;5;241m.\u001b[39mnumpy()\n\u001b[0;32m     89\u001b[0m         \u001b[38;5;241m.\u001b[39mreshape(\u001b[38;5;241m1\u001b[39m, \u001b[38;5;241m-\u001b[39m\u001b[38;5;241m1\u001b[39m))\n\u001b[0;32m     91\u001b[0m \u001b[38;5;66;03m# results = self.database1.search(emb.flatten(), vector_column_name='image_embedding').metric(\"cosine\").limit(1).to_list()\u001b[39;00m\n\u001b[0;32m     92\u001b[0m \n\u001b[0;32m     93\u001b[0m \u001b[38;5;66;03m# if results != []:\u001b[39;00m\n\u001b[1;32m   (...)\u001b[0m\n\u001b[0;32m    109\u001b[0m \u001b[38;5;66;03m#         print(f\"[Batch] Too similar to {dup_path} (sim={max_sim:.3f}), skipping: {path}\")\u001b[39;00m\n\u001b[0;32m    110\u001b[0m \u001b[38;5;66;03m#         continue\u001b[39;00m\n\u001b[0;32m    112\u001b[0m batch\u001b[38;5;241m.\u001b[39mappend({\n\u001b[0;32m    113\u001b[0m     \u001b[38;5;124m\"\u001b[39m\u001b[38;5;124mimage_embedding\u001b[39m\u001b[38;5;124m\"\u001b[39m: emb\u001b[38;5;241m.\u001b[39mflatten(),\n\u001b[0;32m    114\u001b[0m     \u001b[38;5;124m\"\u001b[39m\u001b[38;5;124mname\u001b[39m\u001b[38;5;124m\"\u001b[39m: name,\n\u001b[0;32m    115\u001b[0m     \u001b[38;5;124m\"\u001b[39m\u001b[38;5;124mpath\u001b[39m\u001b[38;5;124m\"\u001b[39m: path\n\u001b[0;32m    116\u001b[0m })\n",
      "\u001b[1;31mKeyboardInterrupt\u001b[0m: "
     ]
    }
   ],
   "source": [
    "my_model.add_image_to_database(input_data = data, check_existing_path = False, batch_size = 4000)\n",
    "my_model.add_image_to_database(input_data = data, check_existing_path = False, batch_size = 4000)"
   ]
  },
  {
   "cell_type": "code",
   "execution_count": 6,
   "id": "11fb2cc4",
   "metadata": {},
   "outputs": [
    {
     "data": {
      "text/html": [
       "<div>\n",
       "<style scoped>\n",
       "    .dataframe tbody tr th:only-of-type {\n",
       "        vertical-align: middle;\n",
       "    }\n",
       "\n",
       "    .dataframe tbody tr th {\n",
       "        vertical-align: top;\n",
       "    }\n",
       "\n",
       "    .dataframe thead th {\n",
       "        text-align: right;\n",
       "    }\n",
       "</style>\n",
       "<table border=\"1\" class=\"dataframe\">\n",
       "  <thead>\n",
       "    <tr style=\"text-align: right;\">\n",
       "      <th></th>\n",
       "      <th>image_embedding</th>\n",
       "      <th>name</th>\n",
       "      <th>path</th>\n",
       "    </tr>\n",
       "  </thead>\n",
       "  <tbody>\n",
       "    <tr>\n",
       "      <th>0</th>\n",
       "      <td>[-0.21694031, 1.4759576, 0.072390616, 0.944466...</td>\n",
       "      <td>Acanthosis nigricans</td>\n",
       "      <td>./data_train_test/train_dir\\Acanthosis nigrica...</td>\n",
       "    </tr>\n",
       "    <tr>\n",
       "      <th>1</th>\n",
       "      <td>[0.19926171, 0.64391226, -0.15063366, 0.054785...</td>\n",
       "      <td>Acanthosis nigricans</td>\n",
       "      <td>./data_train_test/train_dir\\Acanthosis nigrica...</td>\n",
       "    </tr>\n",
       "    <tr>\n",
       "      <th>2</th>\n",
       "      <td>[0.06532282, 1.2562176, 0.26635936, 0.1303569,...</td>\n",
       "      <td>Acanthosis nigricans</td>\n",
       "      <td>./data_train_test/train_dir\\Acanthosis nigrica...</td>\n",
       "    </tr>\n",
       "    <tr>\n",
       "      <th>3</th>\n",
       "      <td>[0.30831116, 0.8508979, 0.6413082, 0.24781574,...</td>\n",
       "      <td>Acanthosis nigricans</td>\n",
       "      <td>./data_train_test/train_dir\\Acanthosis nigrica...</td>\n",
       "    </tr>\n",
       "    <tr>\n",
       "      <th>4</th>\n",
       "      <td>[0.42668843, 1.1834478, 0.1785924, 1.0132625, ...</td>\n",
       "      <td>Acanthosis nigricans</td>\n",
       "      <td>./data_train_test/train_dir\\Acanthosis nigrica...</td>\n",
       "    </tr>\n",
       "    <tr>\n",
       "      <th>...</th>\n",
       "      <td>...</td>\n",
       "      <td>...</td>\n",
       "      <td>...</td>\n",
       "    </tr>\n",
       "    <tr>\n",
       "      <th>664122</th>\n",
       "      <td>[-0.43778485, 0.2193321, 0.49996093, 0.2646631...</td>\n",
       "      <td>Benign</td>\n",
       "      <td>./data_train_test/train_dir\\Benign\\roi97.jpg</td>\n",
       "    </tr>\n",
       "    <tr>\n",
       "      <th>664123</th>\n",
       "      <td>[-0.28469142, 0.08104239, 0.18612808, 0.286094...</td>\n",
       "      <td>Benign</td>\n",
       "      <td>./data_train_test/train_dir\\Benign\\roi98.jpg</td>\n",
       "    </tr>\n",
       "    <tr>\n",
       "      <th>664124</th>\n",
       "      <td>[-0.23755422, -0.3270465, 0.5751417, 0.8026289...</td>\n",
       "      <td>Benign</td>\n",
       "      <td>./data_train_test/train_dir\\Benign\\roi99.jpg</td>\n",
       "    </tr>\n",
       "    <tr>\n",
       "      <th>664125</th>\n",
       "      <td>[0.7449124, 1.2955562, 0.45328984, 1.2443622, ...</td>\n",
       "      <td>Benign</td>\n",
       "      <td>./data_train_test/train_dir\\Benign\\sebaceous-h...</td>\n",
       "    </tr>\n",
       "    <tr>\n",
       "      <th>664126</th>\n",
       "      <td>[0.47380692, 1.1498137, 0.29251546, 0.94051373...</td>\n",
       "      <td>Benign</td>\n",
       "      <td>./data_train_test/train_dir\\Benign\\sebaceous-h...</td>\n",
       "    </tr>\n",
       "  </tbody>\n",
       "</table>\n",
       "<p>664127 rows × 3 columns</p>\n",
       "</div>"
      ],
      "text/plain": [
       "                                          image_embedding  \\\n",
       "0       [-0.21694031, 1.4759576, 0.072390616, 0.944466...   \n",
       "1       [0.19926171, 0.64391226, -0.15063366, 0.054785...   \n",
       "2       [0.06532282, 1.2562176, 0.26635936, 0.1303569,...   \n",
       "3       [0.30831116, 0.8508979, 0.6413082, 0.24781574,...   \n",
       "4       [0.42668843, 1.1834478, 0.1785924, 1.0132625, ...   \n",
       "...                                                   ...   \n",
       "664122  [-0.43778485, 0.2193321, 0.49996093, 0.2646631...   \n",
       "664123  [-0.28469142, 0.08104239, 0.18612808, 0.286094...   \n",
       "664124  [-0.23755422, -0.3270465, 0.5751417, 0.8026289...   \n",
       "664125  [0.7449124, 1.2955562, 0.45328984, 1.2443622, ...   \n",
       "664126  [0.47380692, 1.1498137, 0.29251546, 0.94051373...   \n",
       "\n",
       "                        name  \\\n",
       "0       Acanthosis nigricans   \n",
       "1       Acanthosis nigricans   \n",
       "2       Acanthosis nigricans   \n",
       "3       Acanthosis nigricans   \n",
       "4       Acanthosis nigricans   \n",
       "...                      ...   \n",
       "664122                Benign   \n",
       "664123                Benign   \n",
       "664124                Benign   \n",
       "664125                Benign   \n",
       "664126                Benign   \n",
       "\n",
       "                                                     path  \n",
       "0       ./data_train_test/train_dir\\Acanthosis nigrica...  \n",
       "1       ./data_train_test/train_dir\\Acanthosis nigrica...  \n",
       "2       ./data_train_test/train_dir\\Acanthosis nigrica...  \n",
       "3       ./data_train_test/train_dir\\Acanthosis nigrica...  \n",
       "4       ./data_train_test/train_dir\\Acanthosis nigrica...  \n",
       "...                                                   ...  \n",
       "664122       ./data_train_test/train_dir\\Benign\\roi97.jpg  \n",
       "664123       ./data_train_test/train_dir\\Benign\\roi98.jpg  \n",
       "664124       ./data_train_test/train_dir\\Benign\\roi99.jpg  \n",
       "664125  ./data_train_test/train_dir\\Benign\\sebaceous-h...  \n",
       "664126  ./data_train_test/train_dir\\Benign\\sebaceous-h...  \n",
       "\n",
       "[664127 rows x 3 columns]"
      ]
     },
     "execution_count": 6,
     "metadata": {},
     "output_type": "execute_result"
    }
   ],
   "source": [
    "db = lancedb.connect(\"big_lancedb\")\n",
    "table = db.open_table(\"image\")\n",
    "df = table.to_pandas()\n",
    "df\n"
   ]
  }
 ],
 "metadata": {
  "kernelspec": {
   "display_name": "base",
   "language": "python",
   "name": "python3"
  },
  "language_info": {
   "codemirror_mode": {
    "name": "ipython",
    "version": 3
   },
   "file_extension": ".py",
   "mimetype": "text/x-python",
   "name": "python",
   "nbconvert_exporter": "python",
   "pygments_lexer": "ipython3",
   "version": "3.12.3"
  }
 },
 "nbformat": 4,
 "nbformat_minor": 5
}
