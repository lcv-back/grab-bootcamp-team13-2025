{
 "cells": [
  {
   "cell_type": "code",
   "execution_count": null,
   "id": "75ee798f",
   "metadata": {},
   "outputs": [],
   "source": [
    "import lancedb\n",
    "import pyarrow as pa\n",
    "import torch\n",
    "from PIL import Image\n",
    "import os\n",
    "import json\n",
    "import numpy as np\n",
    "import pandas as pd\n",
    "from sklearn.metrics.pairwise import cosine_similarity\n",
    "from sentence_transformers import SentenceTransformer\n",
    "from transformers import CLIPModel, CLIPProcessor\n",
    "from tqdm import tqdm\n",
    "from Model.model import Model"
   ]
  },
  {
   "cell_type": "code",
   "execution_count": null,
   "id": "174c398a",
   "metadata": {},
   "outputs": [],
   "source": [
    "my_model = Model(\"lancedb\")"
   ]
  },
  {
   "cell_type": "code",
   "execution_count": null,
   "id": "bd4babee",
   "metadata": {},
   "outputs": [],
   "source": [
    "data = []\n",
    "\n",
    "with open(\"symptom disease.json\", \"r\") as f:\n",
    "    symptom = json.load(f)\n",
    "\n",
    "\n",
    "for item in symptom:\n",
    "    for idx, item_symptoms in enumerate(item['symptoms']):\n",
    "        id = str(item['global_index']).zfill(5) + str(idx)\n",
    "        # id = item['disease_name'] + item_symptoms['symptom_name']\n",
    "        print(id)\n",
    "        print(item['disease_name'])\n",
    "        print(item_symptoms['symptom_name'])\n",
    "        symptom_name = f\"a photo of a {item_symptoms['symptom_name']}\"\n",
    "        print(symptom_name)\n",
    "        print(\"-\" * 40)\n",
    "        data.append([id, item['disease_name'], symptom_name])\n",
    "print(len(data))"
   ]
  },
  {
   "cell_type": "code",
   "execution_count": null,
   "id": "6bba4d70",
   "metadata": {},
   "outputs": [],
   "source": [
    "my_model.add_symptom_clip_to_database(data, False, batch_size=1000)"
   ]
  }
 ],
 "metadata": {
  "kernelspec": {
   "display_name": "base",
   "language": "python",
   "name": "python3"
  },
  "language_info": {
   "codemirror_mode": {
    "name": "ipython",
    "version": 3
   },
   "file_extension": ".py",
   "mimetype": "text/x-python",
   "name": "python",
   "nbconvert_exporter": "python",
   "pygments_lexer": "ipython3",
   "version": "3.12.3"
  }
 },
 "nbformat": 4,
 "nbformat_minor": 5
}
